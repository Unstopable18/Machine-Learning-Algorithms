{
  "nbformat": 4,
  "nbformat_minor": 0,
  "metadata": {
    "colab": {
      "provenance": [],
      "authorship_tag": "ABX9TyPJPI2IkVSZE0ythX8PlN5j",
      "include_colab_link": true
    },
    "kernelspec": {
      "name": "python3",
      "display_name": "Python 3"
    },
    "language_info": {
      "name": "python"
    }
  },
  "cells": [
    {
      "cell_type": "markdown",
      "metadata": {
        "id": "view-in-github",
        "colab_type": "text"
      },
      "source": [
        "<a href=\"https://colab.research.google.com/github/VDeshmukhCemtrex/Machine-Learning-Algorithms/blob/main/XGBoost-Regressor-Classifier.ipynb\" target=\"_parent\"><img src=\"https://colab.research.google.com/assets/colab-badge.svg\" alt=\"Open In Colab\"/></a>"
      ]
    },
    {
      "cell_type": "markdown",
      "source": [
        "# XGBOOST REGRESSOR"
      ],
      "metadata": {
        "id": "lqeRhZRtYXkp"
      }
    },
    {
      "cell_type": "code",
      "execution_count": 1,
      "metadata": {
        "id": "6vdj4LaQVtVW"
      },
      "outputs": [],
      "source": [
        "import pandas as pd\n",
        "from sklearn.model_selection import train_test_split"
      ]
    },
    {
      "cell_type": "code",
      "source": [
        "data = pd.read_csv('https://raw.githubusercontent.com/VDeshmukhCemtrex/Datasets/main/melb_data.csv')\n",
        "cols_to_use = ['Rooms', 'Distance', 'Landsize', 'BuildingArea', 'YearBuilt']\n",
        "X = data[cols_to_use]\n",
        "y = data.Price\n",
        "X_train, X_valid, y_train, y_valid = train_test_split(X, y)"
      ],
      "metadata": {
        "id": "8YOMCZ4qV-D3"
      },
      "execution_count": 2,
      "outputs": []
    },
    {
      "cell_type": "code",
      "source": [
        "from xgboost import XGBRegressor\n",
        "\n",
        "my_model = XGBRegressor()\n",
        "my_model.fit(X_train, y_train)"
      ],
      "metadata": {
        "colab": {
          "base_uri": "https://localhost:8080/"
        },
        "id": "FjdjSPB8WKQk",
        "outputId": "089f5342-7edc-440e-c807-76ffb00165ea"
      },
      "execution_count": 3,
      "outputs": [
        {
          "output_type": "stream",
          "name": "stdout",
          "text": [
            "[11:30:56] WARNING: /workspace/src/objective/regression_obj.cu:152: reg:linear is now deprecated in favor of reg:squarederror.\n"
          ]
        },
        {
          "output_type": "execute_result",
          "data": {
            "text/plain": [
              "XGBRegressor()"
            ]
          },
          "metadata": {},
          "execution_count": 3
        }
      ]
    },
    {
      "cell_type": "code",
      "source": [
        "from sklearn.metrics import mean_absolute_error\n",
        "\n",
        "predictions = my_model.predict(X_valid)\n",
        "print(\"Mean Absolute Error: \" + str(mean_absolute_error(predictions, y_valid)))"
      ],
      "metadata": {
        "colab": {
          "base_uri": "https://localhost:8080/"
        },
        "id": "vPJbB4S_WL1s",
        "outputId": "e5f34923-03cb-4619-9f47-eb2bc990a854"
      },
      "execution_count": 4,
      "outputs": [
        {
          "output_type": "stream",
          "name": "stdout",
          "text": [
            "Mean Absolute Error: 268526.02090850513\n"
          ]
        }
      ]
    },
    {
      "cell_type": "code",
      "source": [
        "my_model = XGBRegressor(n_estimators=500)\n",
        "my_model.fit(X_train, y_train, \n",
        "             early_stopping_rounds=5, \n",
        "             eval_set=[(X_valid, y_valid)],\n",
        "             verbose=False)\n",
        "from sklearn.metrics import mean_absolute_error\n",
        "\n",
        "predictions = my_model.predict(X_valid)\n",
        "print(\"Mean Absolute Error: \" + str(mean_absolute_error(predictions, y_valid)))"
      ],
      "metadata": {
        "colab": {
          "base_uri": "https://localhost:8080/"
        },
        "id": "p1kckYY1WUWD",
        "outputId": "aef935cc-bd0b-46f2-f60e-0872d30cf5f6"
      },
      "execution_count": 7,
      "outputs": [
        {
          "output_type": "stream",
          "name": "stdout",
          "text": [
            "[11:33:23] WARNING: /workspace/src/objective/regression_obj.cu:152: reg:linear is now deprecated in favor of reg:squarederror.\n",
            "Mean Absolute Error: 269320.86164856405\n"
          ]
        }
      ]
    },
    {
      "cell_type": "code",
      "source": [
        "my_model = XGBRegressor(n_estimators=1000, learning_rate=0.05, n_jobs=4)\n",
        "my_model.fit(X_train, y_train, \n",
        "             early_stopping_rounds=5, \n",
        "             eval_set=[(X_valid, y_valid)], \n",
        "             verbose=False)\n",
        "from sklearn.metrics import mean_absolute_error\n",
        "\n",
        "predictions = my_model.predict(X_valid)\n",
        "print(\"Mean Absolute Error: \" + str(mean_absolute_error(predictions, y_valid)))"
      ],
      "metadata": {
        "colab": {
          "base_uri": "https://localhost:8080/"
        },
        "id": "RSrdYKfEWiQa",
        "outputId": "83fcc7ae-ed44-415a-b63e-d8111f3a7adf"
      },
      "execution_count": 9,
      "outputs": [
        {
          "output_type": "stream",
          "name": "stdout",
          "text": [
            "[11:33:47] WARNING: /workspace/src/objective/regression_obj.cu:152: reg:linear is now deprecated in favor of reg:squarederror.\n",
            "Mean Absolute Error: 265863.70496594254\n"
          ]
        }
      ]
    },
    {
      "cell_type": "code",
      "source": [
        "my_model = XGBRegressor(n_estimators=500)\n",
        "my_model.fit(X_train, y_train)\n",
        "from sklearn.metrics import mean_absolute_error\n",
        "\n",
        "predictions = my_model.predict(X_valid)\n",
        "print(\"Mean Absolute Error: \" + str(mean_absolute_error(predictions, y_valid)))"
      ],
      "metadata": {
        "colab": {
          "base_uri": "https://localhost:8080/"
        },
        "id": "3hexLf69W0Np",
        "outputId": "b16b45e9-68d3-4cf7-9908-d35cca032f0e"
      },
      "execution_count": 10,
      "outputs": [
        {
          "output_type": "stream",
          "name": "stdout",
          "text": [
            "[11:35:02] WARNING: /workspace/src/objective/regression_obj.cu:152: reg:linear is now deprecated in favor of reg:squarederror.\n",
            "Mean Absolute Error: 246307.87159445402\n"
          ]
        }
      ]
    },
    {
      "cell_type": "markdown",
      "source": [
        "# XGBOOST CLASSIFIER"
      ],
      "metadata": {
        "id": "RtO-rC7aYPjw"
      }
    },
    {
      "cell_type": "code",
      "source": [
        "import numpy as np\n",
        "import pandas as pd\n",
        "import matplotlib.pyplot as plt\n",
        "from matplotlib import style\n",
        "import seaborn as sns\n",
        "import tensorflow as tf\n",
        "from sklearn.model_selection import train_test_split, cross_val_predict,cross_val_score\n",
        "from xgboost import XGBClassifier\n",
        "from sklearn.preprocessing import LabelEncoder, MinMaxScaler\n",
        "from sklearn.metrics import confusion_matrix, precision_score, recall_score, f1_score\n",
        "%matplotlib inline\n",
        "\n",
        "SMALL_SIZE = 10\n",
        "MEDIUM_SIZE = 12\n",
        "\n",
        "plt.rc('font', size=SMALL_SIZE)\n",
        "plt.rc('axes', titlesize=MEDIUM_SIZE)\n",
        "plt.rc('axes', labelsize=MEDIUM_SIZE)\n",
        "plt.rcParams['figure.dpi']=150"
      ],
      "metadata": {
        "id": "oairgLufXHvn"
      },
      "execution_count": 47,
      "outputs": []
    },
    {
      "cell_type": "code",
      "source": [
        "df = pd.read_csv('https://raw.githubusercontent.com/VDeshmukhCemtrex/Datasets/main/Sloan%20Digital%20Sky%20Survey.csv', skiprows=0)"
      ],
      "metadata": {
        "id": "lgdeHYBpcc-R"
      },
      "execution_count": 20,
      "outputs": []
    },
    {
      "cell_type": "code",
      "source": [
        "df.info()"
      ],
      "metadata": {
        "colab": {
          "base_uri": "https://localhost:8080/"
        },
        "id": "FKVqJ3cic6pQ",
        "outputId": "18f85452-042b-4f09-950b-7c456c3e293a"
      },
      "execution_count": 21,
      "outputs": [
        {
          "output_type": "stream",
          "name": "stdout",
          "text": [
            "<class 'pandas.core.frame.DataFrame'>\n",
            "RangeIndex: 10000 entries, 0 to 9999\n",
            "Data columns (total 18 columns):\n",
            " #   Column     Non-Null Count  Dtype  \n",
            "---  ------     --------------  -----  \n",
            " 0   objid      10000 non-null  float64\n",
            " 1   ra         10000 non-null  float64\n",
            " 2   dec        10000 non-null  float64\n",
            " 3   u          10000 non-null  float64\n",
            " 4   g          10000 non-null  float64\n",
            " 5   r          10000 non-null  float64\n",
            " 6   i          10000 non-null  float64\n",
            " 7   z          10000 non-null  float64\n",
            " 8   run        10000 non-null  int64  \n",
            " 9   rerun      10000 non-null  int64  \n",
            " 10  camcol     10000 non-null  int64  \n",
            " 11  field      10000 non-null  int64  \n",
            " 12  specobjid  10000 non-null  float64\n",
            " 13  class      10000 non-null  object \n",
            " 14  redshift   10000 non-null  float64\n",
            " 15  plate      10000 non-null  int64  \n",
            " 16  mjd        10000 non-null  int64  \n",
            " 17  fiberid    10000 non-null  int64  \n",
            "dtypes: float64(10), int64(7), object(1)\n",
            "memory usage: 1.4+ MB\n"
          ]
        }
      ]
    },
    {
      "cell_type": "code",
      "source": [
        "df.describe()"
      ],
      "metadata": {
        "colab": {
          "base_uri": "https://localhost:8080/",
          "height": 364
        },
        "id": "6qc8sV7Tc91Q",
        "outputId": "ee74e67b-9d0e-4b9c-e9e3-28280b17651c"
      },
      "execution_count": 22,
      "outputs": [
        {
          "output_type": "execute_result",
          "data": {
            "text/plain": [
              "              objid            ra           dec             u             g  \\\n",
              "count  1.000000e+04  10000.000000  10000.000000  10000.000000  10000.000000   \n",
              "mean   1.237650e+18    175.529987     14.836148     18.619355     17.371931   \n",
              "std    0.000000e+00     47.783439     25.212207      0.828656      0.945457   \n",
              "min    1.237650e+18      8.235100     -5.382632     12.988970     12.799550   \n",
              "25%    1.237650e+18    157.370946     -0.539035     18.178035     16.815100   \n",
              "50%    1.237650e+18    180.394514      0.404166     18.853095     17.495135   \n",
              "75%    1.237650e+18    201.547279     35.649397     19.259232     18.010145   \n",
              "max    1.237650e+18    260.884382     68.542265     19.599900     19.918970   \n",
              "\n",
              "                  r             i             z           run    rerun  \\\n",
              "count  10000.000000  10000.000000  10000.000000  10000.000000  10000.0   \n",
              "mean      16.840963     16.583579     16.422833    981.034800    301.0   \n",
              "std        1.067764      1.141805      1.203188    273.305024      0.0   \n",
              "min       12.431600     11.947210     11.610410    308.000000    301.0   \n",
              "25%       16.173333     15.853705     15.618285    752.000000    301.0   \n",
              "50%       16.858770     16.554985     16.389945    756.000000    301.0   \n",
              "75%       17.512675     17.258550     17.141447   1331.000000    301.0   \n",
              "max       24.802040     28.179630     22.833060   1412.000000    301.0   \n",
              "\n",
              "             camcol         field     specobjid      redshift         plate  \\\n",
              "count  10000.000000  10000.000000  1.000000e+04  10000.000000  10000.000000   \n",
              "mean       3.648700    302.380100  1.645022e+18      0.143726   1460.986400   \n",
              "std        1.666183    162.577763  2.013998e+18      0.388774   1788.778371   \n",
              "min        1.000000     11.000000  2.995780e+17     -0.004136    266.000000   \n",
              "25%        2.000000    184.000000  3.389248e+17      0.000081    301.000000   \n",
              "50%        4.000000    299.000000  4.966580e+17      0.042591    441.000000   \n",
              "75%        5.000000    414.000000  2.881300e+18      0.092579   2559.000000   \n",
              "max        6.000000    768.000000  9.468830e+18      5.353854   8410.000000   \n",
              "\n",
              "                mjd       fiberid  \n",
              "count  10000.000000  10000.000000  \n",
              "mean   52943.533300    353.069400  \n",
              "std     1511.150651    206.298149  \n",
              "min    51578.000000      1.000000  \n",
              "25%    51900.000000    186.750000  \n",
              "50%    51997.000000    351.000000  \n",
              "75%    54468.000000    510.000000  \n",
              "max    57481.000000   1000.000000  "
            ],
            "text/html": [
              "\n",
              "  <div id=\"df-b4867e2d-e2d0-47fe-bc29-0579db3683cb\">\n",
              "    <div class=\"colab-df-container\">\n",
              "      <div>\n",
              "<style scoped>\n",
              "    .dataframe tbody tr th:only-of-type {\n",
              "        vertical-align: middle;\n",
              "    }\n",
              "\n",
              "    .dataframe tbody tr th {\n",
              "        vertical-align: top;\n",
              "    }\n",
              "\n",
              "    .dataframe thead th {\n",
              "        text-align: right;\n",
              "    }\n",
              "</style>\n",
              "<table border=\"1\" class=\"dataframe\">\n",
              "  <thead>\n",
              "    <tr style=\"text-align: right;\">\n",
              "      <th></th>\n",
              "      <th>objid</th>\n",
              "      <th>ra</th>\n",
              "      <th>dec</th>\n",
              "      <th>u</th>\n",
              "      <th>g</th>\n",
              "      <th>r</th>\n",
              "      <th>i</th>\n",
              "      <th>z</th>\n",
              "      <th>run</th>\n",
              "      <th>rerun</th>\n",
              "      <th>camcol</th>\n",
              "      <th>field</th>\n",
              "      <th>specobjid</th>\n",
              "      <th>redshift</th>\n",
              "      <th>plate</th>\n",
              "      <th>mjd</th>\n",
              "      <th>fiberid</th>\n",
              "    </tr>\n",
              "  </thead>\n",
              "  <tbody>\n",
              "    <tr>\n",
              "      <th>count</th>\n",
              "      <td>1.000000e+04</td>\n",
              "      <td>10000.000000</td>\n",
              "      <td>10000.000000</td>\n",
              "      <td>10000.000000</td>\n",
              "      <td>10000.000000</td>\n",
              "      <td>10000.000000</td>\n",
              "      <td>10000.000000</td>\n",
              "      <td>10000.000000</td>\n",
              "      <td>10000.000000</td>\n",
              "      <td>10000.0</td>\n",
              "      <td>10000.000000</td>\n",
              "      <td>10000.000000</td>\n",
              "      <td>1.000000e+04</td>\n",
              "      <td>10000.000000</td>\n",
              "      <td>10000.000000</td>\n",
              "      <td>10000.000000</td>\n",
              "      <td>10000.000000</td>\n",
              "    </tr>\n",
              "    <tr>\n",
              "      <th>mean</th>\n",
              "      <td>1.237650e+18</td>\n",
              "      <td>175.529987</td>\n",
              "      <td>14.836148</td>\n",
              "      <td>18.619355</td>\n",
              "      <td>17.371931</td>\n",
              "      <td>16.840963</td>\n",
              "      <td>16.583579</td>\n",
              "      <td>16.422833</td>\n",
              "      <td>981.034800</td>\n",
              "      <td>301.0</td>\n",
              "      <td>3.648700</td>\n",
              "      <td>302.380100</td>\n",
              "      <td>1.645022e+18</td>\n",
              "      <td>0.143726</td>\n",
              "      <td>1460.986400</td>\n",
              "      <td>52943.533300</td>\n",
              "      <td>353.069400</td>\n",
              "    </tr>\n",
              "    <tr>\n",
              "      <th>std</th>\n",
              "      <td>0.000000e+00</td>\n",
              "      <td>47.783439</td>\n",
              "      <td>25.212207</td>\n",
              "      <td>0.828656</td>\n",
              "      <td>0.945457</td>\n",
              "      <td>1.067764</td>\n",
              "      <td>1.141805</td>\n",
              "      <td>1.203188</td>\n",
              "      <td>273.305024</td>\n",
              "      <td>0.0</td>\n",
              "      <td>1.666183</td>\n",
              "      <td>162.577763</td>\n",
              "      <td>2.013998e+18</td>\n",
              "      <td>0.388774</td>\n",
              "      <td>1788.778371</td>\n",
              "      <td>1511.150651</td>\n",
              "      <td>206.298149</td>\n",
              "    </tr>\n",
              "    <tr>\n",
              "      <th>min</th>\n",
              "      <td>1.237650e+18</td>\n",
              "      <td>8.235100</td>\n",
              "      <td>-5.382632</td>\n",
              "      <td>12.988970</td>\n",
              "      <td>12.799550</td>\n",
              "      <td>12.431600</td>\n",
              "      <td>11.947210</td>\n",
              "      <td>11.610410</td>\n",
              "      <td>308.000000</td>\n",
              "      <td>301.0</td>\n",
              "      <td>1.000000</td>\n",
              "      <td>11.000000</td>\n",
              "      <td>2.995780e+17</td>\n",
              "      <td>-0.004136</td>\n",
              "      <td>266.000000</td>\n",
              "      <td>51578.000000</td>\n",
              "      <td>1.000000</td>\n",
              "    </tr>\n",
              "    <tr>\n",
              "      <th>25%</th>\n",
              "      <td>1.237650e+18</td>\n",
              "      <td>157.370946</td>\n",
              "      <td>-0.539035</td>\n",
              "      <td>18.178035</td>\n",
              "      <td>16.815100</td>\n",
              "      <td>16.173333</td>\n",
              "      <td>15.853705</td>\n",
              "      <td>15.618285</td>\n",
              "      <td>752.000000</td>\n",
              "      <td>301.0</td>\n",
              "      <td>2.000000</td>\n",
              "      <td>184.000000</td>\n",
              "      <td>3.389248e+17</td>\n",
              "      <td>0.000081</td>\n",
              "      <td>301.000000</td>\n",
              "      <td>51900.000000</td>\n",
              "      <td>186.750000</td>\n",
              "    </tr>\n",
              "    <tr>\n",
              "      <th>50%</th>\n",
              "      <td>1.237650e+18</td>\n",
              "      <td>180.394514</td>\n",
              "      <td>0.404166</td>\n",
              "      <td>18.853095</td>\n",
              "      <td>17.495135</td>\n",
              "      <td>16.858770</td>\n",
              "      <td>16.554985</td>\n",
              "      <td>16.389945</td>\n",
              "      <td>756.000000</td>\n",
              "      <td>301.0</td>\n",
              "      <td>4.000000</td>\n",
              "      <td>299.000000</td>\n",
              "      <td>4.966580e+17</td>\n",
              "      <td>0.042591</td>\n",
              "      <td>441.000000</td>\n",
              "      <td>51997.000000</td>\n",
              "      <td>351.000000</td>\n",
              "    </tr>\n",
              "    <tr>\n",
              "      <th>75%</th>\n",
              "      <td>1.237650e+18</td>\n",
              "      <td>201.547279</td>\n",
              "      <td>35.649397</td>\n",
              "      <td>19.259232</td>\n",
              "      <td>18.010145</td>\n",
              "      <td>17.512675</td>\n",
              "      <td>17.258550</td>\n",
              "      <td>17.141447</td>\n",
              "      <td>1331.000000</td>\n",
              "      <td>301.0</td>\n",
              "      <td>5.000000</td>\n",
              "      <td>414.000000</td>\n",
              "      <td>2.881300e+18</td>\n",
              "      <td>0.092579</td>\n",
              "      <td>2559.000000</td>\n",
              "      <td>54468.000000</td>\n",
              "      <td>510.000000</td>\n",
              "    </tr>\n",
              "    <tr>\n",
              "      <th>max</th>\n",
              "      <td>1.237650e+18</td>\n",
              "      <td>260.884382</td>\n",
              "      <td>68.542265</td>\n",
              "      <td>19.599900</td>\n",
              "      <td>19.918970</td>\n",
              "      <td>24.802040</td>\n",
              "      <td>28.179630</td>\n",
              "      <td>22.833060</td>\n",
              "      <td>1412.000000</td>\n",
              "      <td>301.0</td>\n",
              "      <td>6.000000</td>\n",
              "      <td>768.000000</td>\n",
              "      <td>9.468830e+18</td>\n",
              "      <td>5.353854</td>\n",
              "      <td>8410.000000</td>\n",
              "      <td>57481.000000</td>\n",
              "      <td>1000.000000</td>\n",
              "    </tr>\n",
              "  </tbody>\n",
              "</table>\n",
              "</div>\n",
              "      <button class=\"colab-df-convert\" onclick=\"convertToInteractive('df-b4867e2d-e2d0-47fe-bc29-0579db3683cb')\"\n",
              "              title=\"Convert this dataframe to an interactive table.\"\n",
              "              style=\"display:none;\">\n",
              "        \n",
              "  <svg xmlns=\"http://www.w3.org/2000/svg\" height=\"24px\"viewBox=\"0 0 24 24\"\n",
              "       width=\"24px\">\n",
              "    <path d=\"M0 0h24v24H0V0z\" fill=\"none\"/>\n",
              "    <path d=\"M18.56 5.44l.94 2.06.94-2.06 2.06-.94-2.06-.94-.94-2.06-.94 2.06-2.06.94zm-11 1L8.5 8.5l.94-2.06 2.06-.94-2.06-.94L8.5 2.5l-.94 2.06-2.06.94zm10 10l.94 2.06.94-2.06 2.06-.94-2.06-.94-.94-2.06-.94 2.06-2.06.94z\"/><path d=\"M17.41 7.96l-1.37-1.37c-.4-.4-.92-.59-1.43-.59-.52 0-1.04.2-1.43.59L10.3 9.45l-7.72 7.72c-.78.78-.78 2.05 0 2.83L4 21.41c.39.39.9.59 1.41.59.51 0 1.02-.2 1.41-.59l7.78-7.78 2.81-2.81c.8-.78.8-2.07 0-2.86zM5.41 20L4 18.59l7.72-7.72 1.47 1.35L5.41 20z\"/>\n",
              "  </svg>\n",
              "      </button>\n",
              "      \n",
              "  <style>\n",
              "    .colab-df-container {\n",
              "      display:flex;\n",
              "      flex-wrap:wrap;\n",
              "      gap: 12px;\n",
              "    }\n",
              "\n",
              "    .colab-df-convert {\n",
              "      background-color: #E8F0FE;\n",
              "      border: none;\n",
              "      border-radius: 50%;\n",
              "      cursor: pointer;\n",
              "      display: none;\n",
              "      fill: #1967D2;\n",
              "      height: 32px;\n",
              "      padding: 0 0 0 0;\n",
              "      width: 32px;\n",
              "    }\n",
              "\n",
              "    .colab-df-convert:hover {\n",
              "      background-color: #E2EBFA;\n",
              "      box-shadow: 0px 1px 2px rgba(60, 64, 67, 0.3), 0px 1px 3px 1px rgba(60, 64, 67, 0.15);\n",
              "      fill: #174EA6;\n",
              "    }\n",
              "\n",
              "    [theme=dark] .colab-df-convert {\n",
              "      background-color: #3B4455;\n",
              "      fill: #D2E3FC;\n",
              "    }\n",
              "\n",
              "    [theme=dark] .colab-df-convert:hover {\n",
              "      background-color: #434B5C;\n",
              "      box-shadow: 0px 1px 3px 1px rgba(0, 0, 0, 0.15);\n",
              "      filter: drop-shadow(0px 1px 2px rgba(0, 0, 0, 0.3));\n",
              "      fill: #FFFFFF;\n",
              "    }\n",
              "  </style>\n",
              "\n",
              "      <script>\n",
              "        const buttonEl =\n",
              "          document.querySelector('#df-b4867e2d-e2d0-47fe-bc29-0579db3683cb button.colab-df-convert');\n",
              "        buttonEl.style.display =\n",
              "          google.colab.kernel.accessAllowed ? 'block' : 'none';\n",
              "\n",
              "        async function convertToInteractive(key) {\n",
              "          const element = document.querySelector('#df-b4867e2d-e2d0-47fe-bc29-0579db3683cb');\n",
              "          const dataTable =\n",
              "            await google.colab.kernel.invokeFunction('convertToInteractive',\n",
              "                                                     [key], {});\n",
              "          if (!dataTable) return;\n",
              "\n",
              "          const docLinkHtml = 'Like what you see? Visit the ' +\n",
              "            '<a target=\"_blank\" href=https://colab.research.google.com/notebooks/data_table.ipynb>data table notebook</a>'\n",
              "            + ' to learn more about interactive tables.';\n",
              "          element.innerHTML = '';\n",
              "          dataTable['output_type'] = 'display_data';\n",
              "          await google.colab.output.renderOutput(dataTable, element);\n",
              "          const docLink = document.createElement('div');\n",
              "          docLink.innerHTML = docLinkHtml;\n",
              "          element.appendChild(docLink);\n",
              "        }\n",
              "      </script>\n",
              "    </div>\n",
              "  </div>\n",
              "  "
            ]
          },
          "metadata": {},
          "execution_count": 22
        }
      ]
    },
    {
      "cell_type": "code",
      "source": [
        "df['class'].value_counts()"
      ],
      "metadata": {
        "colab": {
          "base_uri": "https://localhost:8080/"
        },
        "id": "YS4R3V31dByW",
        "outputId": "c827a411-6b39-4a67-f8f7-da65e9683235"
      },
      "execution_count": 23,
      "outputs": [
        {
          "output_type": "execute_result",
          "data": {
            "text/plain": [
              "GALAXY    4998\n",
              "STAR      4152\n",
              "QSO        850\n",
              "Name: class, dtype: int64"
            ]
          },
          "metadata": {},
          "execution_count": 23
        }
      ]
    },
    {
      "cell_type": "code",
      "source": [
        "df.drop(['objid', 'run', 'rerun', 'camcol', 'field', 'specobjid'], axis=1, inplace=True)\n",
        "df.head(1)"
      ],
      "metadata": {
        "colab": {
          "base_uri": "https://localhost:8080/",
          "height": 125
        },
        "id": "ehT1z-vddQyt",
        "outputId": "d8fdff7f-e029-4230-928c-ac9f86ef4906"
      },
      "execution_count": 26,
      "outputs": [
        {
          "output_type": "execute_result",
          "data": {
            "text/plain": [
              "           ra       dec         u        g         r         i         z  \\\n",
              "0  183.531326  0.089693  19.47406  17.0424  15.94699  15.50342  15.22531   \n",
              "\n",
              "  class  redshift  plate    mjd  fiberid  \n",
              "0  STAR -0.000009   3306  54922      491  "
            ],
            "text/html": [
              "\n",
              "  <div id=\"df-9f5e3616-79a5-4bfc-bc9f-8b5d9d231fc2\">\n",
              "    <div class=\"colab-df-container\">\n",
              "      <div>\n",
              "<style scoped>\n",
              "    .dataframe tbody tr th:only-of-type {\n",
              "        vertical-align: middle;\n",
              "    }\n",
              "\n",
              "    .dataframe tbody tr th {\n",
              "        vertical-align: top;\n",
              "    }\n",
              "\n",
              "    .dataframe thead th {\n",
              "        text-align: right;\n",
              "    }\n",
              "</style>\n",
              "<table border=\"1\" class=\"dataframe\">\n",
              "  <thead>\n",
              "    <tr style=\"text-align: right;\">\n",
              "      <th></th>\n",
              "      <th>ra</th>\n",
              "      <th>dec</th>\n",
              "      <th>u</th>\n",
              "      <th>g</th>\n",
              "      <th>r</th>\n",
              "      <th>i</th>\n",
              "      <th>z</th>\n",
              "      <th>class</th>\n",
              "      <th>redshift</th>\n",
              "      <th>plate</th>\n",
              "      <th>mjd</th>\n",
              "      <th>fiberid</th>\n",
              "    </tr>\n",
              "  </thead>\n",
              "  <tbody>\n",
              "    <tr>\n",
              "      <th>0</th>\n",
              "      <td>183.531326</td>\n",
              "      <td>0.089693</td>\n",
              "      <td>19.47406</td>\n",
              "      <td>17.0424</td>\n",
              "      <td>15.94699</td>\n",
              "      <td>15.50342</td>\n",
              "      <td>15.22531</td>\n",
              "      <td>STAR</td>\n",
              "      <td>-0.000009</td>\n",
              "      <td>3306</td>\n",
              "      <td>54922</td>\n",
              "      <td>491</td>\n",
              "    </tr>\n",
              "  </tbody>\n",
              "</table>\n",
              "</div>\n",
              "      <button class=\"colab-df-convert\" onclick=\"convertToInteractive('df-9f5e3616-79a5-4bfc-bc9f-8b5d9d231fc2')\"\n",
              "              title=\"Convert this dataframe to an interactive table.\"\n",
              "              style=\"display:none;\">\n",
              "        \n",
              "  <svg xmlns=\"http://www.w3.org/2000/svg\" height=\"24px\"viewBox=\"0 0 24 24\"\n",
              "       width=\"24px\">\n",
              "    <path d=\"M0 0h24v24H0V0z\" fill=\"none\"/>\n",
              "    <path d=\"M18.56 5.44l.94 2.06.94-2.06 2.06-.94-2.06-.94-.94-2.06-.94 2.06-2.06.94zm-11 1L8.5 8.5l.94-2.06 2.06-.94-2.06-.94L8.5 2.5l-.94 2.06-2.06.94zm10 10l.94 2.06.94-2.06 2.06-.94-2.06-.94-.94-2.06-.94 2.06-2.06.94z\"/><path d=\"M17.41 7.96l-1.37-1.37c-.4-.4-.92-.59-1.43-.59-.52 0-1.04.2-1.43.59L10.3 9.45l-7.72 7.72c-.78.78-.78 2.05 0 2.83L4 21.41c.39.39.9.59 1.41.59.51 0 1.02-.2 1.41-.59l7.78-7.78 2.81-2.81c.8-.78.8-2.07 0-2.86zM5.41 20L4 18.59l7.72-7.72 1.47 1.35L5.41 20z\"/>\n",
              "  </svg>\n",
              "      </button>\n",
              "      \n",
              "  <style>\n",
              "    .colab-df-container {\n",
              "      display:flex;\n",
              "      flex-wrap:wrap;\n",
              "      gap: 12px;\n",
              "    }\n",
              "\n",
              "    .colab-df-convert {\n",
              "      background-color: #E8F0FE;\n",
              "      border: none;\n",
              "      border-radius: 50%;\n",
              "      cursor: pointer;\n",
              "      display: none;\n",
              "      fill: #1967D2;\n",
              "      height: 32px;\n",
              "      padding: 0 0 0 0;\n",
              "      width: 32px;\n",
              "    }\n",
              "\n",
              "    .colab-df-convert:hover {\n",
              "      background-color: #E2EBFA;\n",
              "      box-shadow: 0px 1px 2px rgba(60, 64, 67, 0.3), 0px 1px 3px 1px rgba(60, 64, 67, 0.15);\n",
              "      fill: #174EA6;\n",
              "    }\n",
              "\n",
              "    [theme=dark] .colab-df-convert {\n",
              "      background-color: #3B4455;\n",
              "      fill: #D2E3FC;\n",
              "    }\n",
              "\n",
              "    [theme=dark] .colab-df-convert:hover {\n",
              "      background-color: #434B5C;\n",
              "      box-shadow: 0px 1px 3px 1px rgba(0, 0, 0, 0.15);\n",
              "      filter: drop-shadow(0px 1px 2px rgba(0, 0, 0, 0.3));\n",
              "      fill: #FFFFFF;\n",
              "    }\n",
              "  </style>\n",
              "\n",
              "      <script>\n",
              "        const buttonEl =\n",
              "          document.querySelector('#df-9f5e3616-79a5-4bfc-bc9f-8b5d9d231fc2 button.colab-df-convert');\n",
              "        buttonEl.style.display =\n",
              "          google.colab.kernel.accessAllowed ? 'block' : 'none';\n",
              "\n",
              "        async function convertToInteractive(key) {\n",
              "          const element = document.querySelector('#df-9f5e3616-79a5-4bfc-bc9f-8b5d9d231fc2');\n",
              "          const dataTable =\n",
              "            await google.colab.kernel.invokeFunction('convertToInteractive',\n",
              "                                                     [key], {});\n",
              "          if (!dataTable) return;\n",
              "\n",
              "          const docLinkHtml = 'Like what you see? Visit the ' +\n",
              "            '<a target=\"_blank\" href=https://colab.research.google.com/notebooks/data_table.ipynb>data table notebook</a>'\n",
              "            + ' to learn more about interactive tables.';\n",
              "          element.innerHTML = '';\n",
              "          dataTable['output_type'] = 'display_data';\n",
              "          await google.colab.output.renderOutput(dataTable, element);\n",
              "          const docLink = document.createElement('div');\n",
              "          docLink.innerHTML = docLinkHtml;\n",
              "          element.appendChild(docLink);\n",
              "        }\n",
              "      </script>\n",
              "    </div>\n",
              "  </div>\n",
              "  "
            ]
          },
          "metadata": {},
          "execution_count": 26
        }
      ]
    },
    {
      "cell_type": "code",
      "source": [
        "fig, axes = plt.subplots(nrows=1, ncols=3,figsize=(16, 4))\n",
        "ax = sns.distplot(df[df['class']=='STAR'].redshift, bins = 30, ax = axes[0], kde = False)\n",
        "ax.set_title('Star')\n",
        "ax = sns.distplot(df[df['class']=='GALAXY'].redshift, bins = 30, ax = axes[1], kde = False)\n",
        "ax.set_title('Galaxy')\n",
        "ax = sns.distplot(df[df['class']=='QSO'].redshift, bins = 30, ax = axes[2], kde = False)\n",
        "ax = ax.set_title('QSO')"
      ],
      "metadata": {
        "colab": {
          "base_uri": "https://localhost:8080/",
          "height": 332
        },
        "id": "2c7Ssy4Zdj4D",
        "outputId": "02bfaafa-17ee-4f0e-9a04-e657e2cde5b0"
      },
      "execution_count": 27,
      "outputs": [
        {
          "output_type": "stream",
          "name": "stderr",
          "text": [
            "/usr/local/lib/python3.8/dist-packages/seaborn/distributions.py:2619: FutureWarning: `distplot` is a deprecated function and will be removed in a future version. Please adapt your code to use either `displot` (a figure-level function with similar flexibility) or `histplot` (an axes-level function for histograms).\n",
            "  warnings.warn(msg, FutureWarning)\n"
          ]
        },
        {
          "output_type": "display_data",
          "data": {
            "text/plain": [
              "<Figure size 2400x600 with 3 Axes>"
            ],
            "image/png": "[encoded data removed]"
          },
          "metadata": {
            "needs_background": "light"
          }
        }
      ]
    },
    {
      "cell_type": "code",
      "source": [
        "fig, axes = plt.subplots(nrows=1, ncols=3,figsize=(16, 4))\n",
        "fig.set_dpi(100)\n",
        "ax = sns.heatmap(df[df['class']=='STAR'][['u', 'g', 'r', 'i', 'z']].corr(), ax = axes[0], cmap='coolwarm')\n",
        "ax.set_title('Star')\n",
        "ax = sns.heatmap(df[df['class']=='GALAXY'][['u', 'g', 'r', 'i', 'z']].corr(), ax = axes[1], cmap='coolwarm')\n",
        "ax.set_title('Galaxy')\n",
        "ax = sns.heatmap(df[df['class']=='QSO'][['u', 'g', 'r', 'i', 'z']].corr(), ax = axes[2], cmap='coolwarm')\n",
        "ax = ax.set_title('QSO')"
      ],
      "metadata": {
        "colab": {
          "base_uri": "https://localhost:8080/",
          "height": 269
        },
        "id": "FiH1i7LzdqvD",
        "outputId": "3e7c37c7-f55d-44ab-9106-886275c1a401"
      },
      "execution_count": 38,
      "outputs": [
        {
          "output_type": "display_data",
          "data": {
            "text/plain": [
              "<Figure size 1600x400 with 6 Axes>"
            ],
            "image/png": "[encoded data removed]"
          },
          "metadata": {
            "needs_background": "light"
          }
        }
      ]
    },
    {
      "cell_type": "code",
      "source": [
        "sns.lmplot(x='ra', y='dec', data=df, hue='class', fit_reg=False, palette='coolwarm', size=6, aspect=2)\n",
        "plt.title('Equatorial coordinates')\n"
      ],
      "metadata": {
        "colab": {
          "base_uri": "https://localhost:8080/",
          "height": 502
        },
        "id": "fbhNuKHwe-8D",
        "outputId": "49714368-2198-4ad8-9e79-c09ca8266bbd"
      },
      "execution_count": 40,
      "outputs": [
        {
          "output_type": "stream",
          "name": "stderr",
          "text": [
            "/usr/local/lib/python3.8/dist-packages/seaborn/regression.py:581: UserWarning: The `size` parameter has been renamed to `height`; please update your code.\n",
            "  if val is not None:\n"
          ]
        },
        {
          "output_type": "execute_result",
          "data": {
            "text/plain": [
              "Text(0.5, 1.0, 'Equatorial coordinates')"
            ]
          },
          "metadata": {},
          "execution_count": 40
        },
        {
          "output_type": "display_data",
          "data": {
            "text/plain": [
              "<Figure size 1958.88x900 with 1 Axes>"
            ],
            "image/png": "[encoded data removed]"
          },
          "metadata": {
            "needs_background": "light"
          }
        }
      ]
    },
    {
      "cell_type": "code",
      "source": [
        "from sklearn.decomposition import PCA"
      ],
      "metadata": {
        "id": "Jzq31KxZkaT-"
      },
      "execution_count": 42,
      "outputs": []
    },
    {
      "cell_type": "code",
      "source": [
        "df_fe = df\n",
        "\n",
        "# encode class labels to integers\n",
        "le = LabelEncoder()\n",
        "y_encoded = le.fit_transform(df_fe['class'])\n",
        "df_fe['class'] = y_encoded\n",
        "\n",
        "# Principal Component Analysis\n",
        "pca = PCA(n_components=3)\n",
        "ugriz = pca.fit_transform(df_fe[['u', 'g', 'r', 'i', 'z']])\n",
        "\n",
        "# update dataframe \n",
        "df_fe = pd.concat((df_fe, pd.DataFrame(ugriz)), axis=1)\n",
        "df_fe.rename({0: 'PCA_1', 1: 'PCA_2', 2: 'PCA_3'}, axis=1, inplace = True)\n",
        "df_fe.drop(['u', 'g', 'r', 'i', 'z'], axis=1, inplace=True)\n",
        "df_fe.head()"
      ],
      "metadata": {
        "colab": {
          "base_uri": "https://localhost:8080/",
          "height": 206
        },
        "id": "bxvAUHsjkIzO",
        "outputId": "28169b79-da0a-4fb8-c852-f8bc6ebf24ee"
      },
      "execution_count": 43,
      "outputs": [
        {
          "output_type": "execute_result",
          "data": {
            "text/plain": [
              "           ra       dec  class  redshift  plate    mjd  fiberid     PCA_1  \\\n",
              "0  183.531326  0.089693      2 -0.000009   3306  54922      491 -1.507202   \n",
              "1  183.598370  0.135285      2 -0.000055    323  51615      541 -0.195758   \n",
              "2  183.680207  0.126185      0  0.123111    287  52023      513  1.297604   \n",
              "3  183.870529  0.049911      2 -0.000111   3306  54922      510 -1.446117   \n",
              "4  183.883288  0.102557      2  0.000590   3306  54922      512 -0.849271   \n",
              "\n",
              "      PCA_2     PCA_3  \n",
              "0 -1.377293 -0.265119  \n",
              "1 -0.028410 -0.155695  \n",
              "2 -0.590023  0.140338  \n",
              "3  0.566685 -0.009272  \n",
              "4  1.287505 -0.397689  "
            ],
            "text/html": [
              "\n",
              "  <div id=\"df-842fa030-0f56-41d0-b5c0-431204e8d5d9\">\n",
              "    <div class=\"colab-df-container\">\n",
              "      <div>\n",
              "<style scoped>\n",
              "    .dataframe tbody tr th:only-of-type {\n",
              "        vertical-align: middle;\n",
              "    }\n",
              "\n",
              "    .dataframe tbody tr th {\n",
              "        vertical-align: top;\n",
              "    }\n",
              "\n",
              "    .dataframe thead th {\n",
              "        text-align: right;\n",
              "    }\n",
              "</style>\n",
              "<table border=\"1\" class=\"dataframe\">\n",
              "  <thead>\n",
              "    <tr style=\"text-align: right;\">\n",
              "      <th></th>\n",
              "      <th>ra</th>\n",
              "      <th>dec</th>\n",
              "      <th>class</th>\n",
              "      <th>redshift</th>\n",
              "      <th>plate</th>\n",
              "      <th>mjd</th>\n",
              "      <th>fiberid</th>\n",
              "      <th>PCA_1</th>\n",
              "      <th>PCA_2</th>\n",
              "      <th>PCA_3</th>\n",
              "    </tr>\n",
              "  </thead>\n",
              "  <tbody>\n",
              "    <tr>\n",
              "      <th>0</th>\n",
              "      <td>183.531326</td>\n",
              "      <td>0.089693</td>\n",
              "      <td>2</td>\n",
              "      <td>-0.000009</td>\n",
              "      <td>3306</td>\n",
              "      <td>54922</td>\n",
              "      <td>491</td>\n",
              "      <td>-1.507202</td>\n",
              "      <td>-1.377293</td>\n",
              "      <td>-0.265119</td>\n",
              "    </tr>\n",
              "    <tr>\n",
              "      <th>1</th>\n",
              "      <td>183.598370</td>\n",
              "      <td>0.135285</td>\n",
              "      <td>2</td>\n",
              "      <td>-0.000055</td>\n",
              "      <td>323</td>\n",
              "      <td>51615</td>\n",
              "      <td>541</td>\n",
              "      <td>-0.195758</td>\n",
              "      <td>-0.028410</td>\n",
              "      <td>-0.155695</td>\n",
              "    </tr>\n",
              "    <tr>\n",
              "      <th>2</th>\n",
              "      <td>183.680207</td>\n",
              "      <td>0.126185</td>\n",
              "      <td>0</td>\n",
              "      <td>0.123111</td>\n",
              "      <td>287</td>\n",
              "      <td>52023</td>\n",
              "      <td>513</td>\n",
              "      <td>1.297604</td>\n",
              "      <td>-0.590023</td>\n",
              "      <td>0.140338</td>\n",
              "    </tr>\n",
              "    <tr>\n",
              "      <th>3</th>\n",
              "      <td>183.870529</td>\n",
              "      <td>0.049911</td>\n",
              "      <td>2</td>\n",
              "      <td>-0.000111</td>\n",
              "      <td>3306</td>\n",
              "      <td>54922</td>\n",
              "      <td>510</td>\n",
              "      <td>-1.446117</td>\n",
              "      <td>0.566685</td>\n",
              "      <td>-0.009272</td>\n",
              "    </tr>\n",
              "    <tr>\n",
              "      <th>4</th>\n",
              "      <td>183.883288</td>\n",
              "      <td>0.102557</td>\n",
              "      <td>2</td>\n",
              "      <td>0.000590</td>\n",
              "      <td>3306</td>\n",
              "      <td>54922</td>\n",
              "      <td>512</td>\n",
              "      <td>-0.849271</td>\n",
              "      <td>1.287505</td>\n",
              "      <td>-0.397689</td>\n",
              "    </tr>\n",
              "  </tbody>\n",
              "</table>\n",
              "</div>\n",
              "      <button class=\"colab-df-convert\" onclick=\"convertToInteractive('df-842fa030-0f56-41d0-b5c0-431204e8d5d9')\"\n",
              "              title=\"Convert this dataframe to an interactive table.\"\n",
              "              style=\"display:none;\">\n",
              "        \n",
              "  <svg xmlns=\"http://www.w3.org/2000/svg\" height=\"24px\"viewBox=\"0 0 24 24\"\n",
              "       width=\"24px\">\n",
              "    <path d=\"M0 0h24v24H0V0z\" fill=\"none\"/>\n",
              "    <path d=\"M18.56 5.44l.94 2.06.94-2.06 2.06-.94-2.06-.94-.94-2.06-.94 2.06-2.06.94zm-11 1L8.5 8.5l.94-2.06 2.06-.94-2.06-.94L8.5 2.5l-.94 2.06-2.06.94zm10 10l.94 2.06.94-2.06 2.06-.94-2.06-.94-.94-2.06-.94 2.06-2.06.94z\"/><path d=\"M17.41 7.96l-1.37-1.37c-.4-.4-.92-.59-1.43-.59-.52 0-1.04.2-1.43.59L10.3 9.45l-7.72 7.72c-.78.78-.78 2.05 0 2.83L4 21.41c.39.39.9.59 1.41.59.51 0 1.02-.2 1.41-.59l7.78-7.78 2.81-2.81c.8-.78.8-2.07 0-2.86zM5.41 20L4 18.59l7.72-7.72 1.47 1.35L5.41 20z\"/>\n",
              "  </svg>\n",
              "      </button>\n",
              "      \n",
              "  <style>\n",
              "    .colab-df-container {\n",
              "      display:flex;\n",
              "      flex-wrap:wrap;\n",
              "      gap: 12px;\n",
              "    }\n",
              "\n",
              "    .colab-df-convert {\n",
              "      background-color: #E8F0FE;\n",
              "      border: none;\n",
              "      border-radius: 50%;\n",
              "      cursor: pointer;\n",
              "      display: none;\n",
              "      fill: #1967D2;\n",
              "      height: 32px;\n",
              "      padding: 0 0 0 0;\n",
              "      width: 32px;\n",
              "    }\n",
              "\n",
              "    .colab-df-convert:hover {\n",
              "      background-color: #E2EBFA;\n",
              "      box-shadow: 0px 1px 2px rgba(60, 64, 67, 0.3), 0px 1px 3px 1px rgba(60, 64, 67, 0.15);\n",
              "      fill: #174EA6;\n",
              "    }\n",
              "\n",
              "    [theme=dark] .colab-df-convert {\n",
              "      background-color: #3B4455;\n",
              "      fill: #D2E3FC;\n",
              "    }\n",
              "\n",
              "    [theme=dark] .colab-df-convert:hover {\n",
              "      background-color: #434B5C;\n",
              "      box-shadow: 0px 1px 3px 1px rgba(0, 0, 0, 0.15);\n",
              "      filter: drop-shadow(0px 1px 2px rgba(0, 0, 0, 0.3));\n",
              "      fill: #FFFFFF;\n",
              "    }\n",
              "  </style>\n",
              "\n",
              "      <script>\n",
              "        const buttonEl =\n",
              "          document.querySelector('#df-842fa030-0f56-41d0-b5c0-431204e8d5d9 button.colab-df-convert');\n",
              "        buttonEl.style.display =\n",
              "          google.colab.kernel.accessAllowed ? 'block' : 'none';\n",
              "\n",
              "        async function convertToInteractive(key) {\n",
              "          const element = document.querySelector('#df-842fa030-0f56-41d0-b5c0-431204e8d5d9');\n",
              "          const dataTable =\n",
              "            await google.colab.kernel.invokeFunction('convertToInteractive',\n",
              "                                                     [key], {});\n",
              "          if (!dataTable) return;\n",
              "\n",
              "          const docLinkHtml = 'Like what you see? Visit the ' +\n",
              "            '<a target=\"_blank\" href=https://colab.research.google.com/notebooks/data_table.ipynb>data table notebook</a>'\n",
              "            + ' to learn more about interactive tables.';\n",
              "          element.innerHTML = '';\n",
              "          dataTable['output_type'] = 'display_data';\n",
              "          await google.colab.output.renderOutput(dataTable, element);\n",
              "          const docLink = document.createElement('div');\n",
              "          docLink.innerHTML = docLinkHtml;\n",
              "          element.appendChild(docLink);\n",
              "        }\n",
              "      </script>\n",
              "    </div>\n",
              "  </div>\n",
              "  "
            ]
          },
          "metadata": {},
          "execution_count": 43
        }
      ]
    },
    {
      "cell_type": "code",
      "source": [
        "scaler = MinMaxScaler()\n",
        "sdss = scaler.fit_transform(df_fe.drop('class', axis=1))"
      ],
      "metadata": {
        "id": "5B5eWDmckSUd"
      },
      "execution_count": 44,
      "outputs": []
    },
    {
      "cell_type": "code",
      "source": [
        "X_train, X_test, y_train, y_test = train_test_split(sdss, df_fe['class'], test_size=0.33)"
      ],
      "metadata": {
        "id": "dBBSU4VHklAM"
      },
      "execution_count": 45,
      "outputs": []
    },
    {
      "cell_type": "code",
      "source": [
        "xgb = XGBClassifier(n_estimators=100)\n",
        "xgb.fit(X_train, y_train)\n",
        "preds = xgb.predict(X_test)\n",
        "acc_xgb = (preds == y_test).sum().astype(float) / len(preds)*100\n",
        "print(\"XGBoost's prediction accuracy is: %3.2f\" % (acc_xgb))"
      ],
      "metadata": {
        "colab": {
          "base_uri": "https://localhost:8080/"
        },
        "id": "UbVu6REgkoIU",
        "outputId": "8cdd0373-fd48-46ac-8276-a314c0bb434b"
      },
      "execution_count": 46,
      "outputs": [
        {
          "output_type": "stream",
          "name": "stdout",
          "text": [
            "XGBoost's prediction accuracy is: 99.61\n"
          ]
        }
      ]
    },
    {
      "cell_type": "code",
      "source": [
        "xgb_cv = XGBClassifier(n_estimators=100)\n",
        "scores = cross_val_score(xgb_cv, X_train, y_train, cv=10, scoring = \"accuracy\")\n",
        "print(\"Scores:\", scores)\n",
        "print(\"Mean:\", scores.mean())\n",
        "print(\"Standard Deviation:\", scores.std())"
      ],
      "metadata": {
        "colab": {
          "base_uri": "https://localhost:8080/"
        },
        "id": "EQ3_VmQQk8Nq",
        "outputId": "65b727ae-d16e-42bd-d5db-4db9fd60fcc4"
      },
      "execution_count": 48,
      "outputs": [
        {
          "output_type": "stream",
          "name": "stdout",
          "text": [
            "Scores: [0.99701493 0.99104478 0.98656716 0.99402985 0.99402985 0.99402985\n",
            " 0.99402985 0.99402985 0.99402985 0.99552239]\n",
            "Mean: 0.9934328358208955\n",
            "Standard Deviation: 0.002686567164179099\n"
          ]
        }
      ]
    },
    {
      "cell_type": "code",
      "source": [
        "importances = pd.DataFrame({\n",
        "    'Feature': df_fe.drop('class', axis=1).columns,\n",
        "    'Importance': xgb.feature_importances_\n",
        "})\n",
        "importances = importances.sort_values(by='Importance', ascending=False)\n",
        "importances = importances.set_index('Feature')\n",
        "importances"
      ],
      "metadata": {
        "colab": {
          "base_uri": "https://localhost:8080/",
          "height": 363
        },
        "id": "4zSyCbD9lQxQ",
        "outputId": "50719a5c-59a8-4915-f5de-dae4cfdd2064"
      },
      "execution_count": 50,
      "outputs": [
        {
          "output_type": "execute_result",
          "data": {
            "text/plain": [
              "          Importance\n",
              "Feature             \n",
              "redshift    0.890938\n",
              "PCA_3       0.039951\n",
              "PCA_1       0.016508\n",
              "PCA_2       0.012136\n",
              "dec         0.009986\n",
              "fiberid     0.009950\n",
              "ra          0.007462\n",
              "plate       0.006732\n",
              "mjd         0.006337"
            ],
            "text/html": [
              "\n",
              "  <div id=\"df-4086be2e-b712-477b-a04b-4f016d460947\">\n",
              "    <div class=\"colab-df-container\">\n",
              "      <div>\n",
              "<style scoped>\n",
              "    .dataframe tbody tr th:only-of-type {\n",
              "        vertical-align: middle;\n",
              "    }\n",
              "\n",
              "    .dataframe tbody tr th {\n",
              "        vertical-align: top;\n",
              "    }\n",
              "\n",
              "    .dataframe thead th {\n",
              "        text-align: right;\n",
              "    }\n",
              "</style>\n",
              "<table border=\"1\" class=\"dataframe\">\n",
              "  <thead>\n",
              "    <tr style=\"text-align: right;\">\n",
              "      <th></th>\n",
              "      <th>Importance</th>\n",
              "    </tr>\n",
              "    <tr>\n",
              "      <th>Feature</th>\n",
              "      <th></th>\n",
              "    </tr>\n",
              "  </thead>\n",
              "  <tbody>\n",
              "    <tr>\n",
              "      <th>redshift</th>\n",
              "      <td>0.890938</td>\n",
              "    </tr>\n",
              "    <tr>\n",
              "      <th>PCA_3</th>\n",
              "      <td>0.039951</td>\n",
              "    </tr>\n",
              "    <tr>\n",
              "      <th>PCA_1</th>\n",
              "      <td>0.016508</td>\n",
              "    </tr>\n",
              "    <tr>\n",
              "      <th>PCA_2</th>\n",
              "      <td>0.012136</td>\n",
              "    </tr>\n",
              "    <tr>\n",
              "      <th>dec</th>\n",
              "      <td>0.009986</td>\n",
              "    </tr>\n",
              "    <tr>\n",
              "      <th>fiberid</th>\n",
              "      <td>0.009950</td>\n",
              "    </tr>\n",
              "    <tr>\n",
              "      <th>ra</th>\n",
              "      <td>0.007462</td>\n",
              "    </tr>\n",
              "    <tr>\n",
              "      <th>plate</th>\n",
              "      <td>0.006732</td>\n",
              "    </tr>\n",
              "    <tr>\n",
              "      <th>mjd</th>\n",
              "      <td>0.006337</td>\n",
              "    </tr>\n",
              "  </tbody>\n",
              "</table>\n",
              "</div>\n",
              "      <button class=\"colab-df-convert\" onclick=\"convertToInteractive('df-4086be2e-b712-477b-a04b-4f016d460947')\"\n",
              "              title=\"Convert this dataframe to an interactive table.\"\n",
              "              style=\"display:none;\">\n",
              "        \n",
              "  <svg xmlns=\"http://www.w3.org/2000/svg\" height=\"24px\"viewBox=\"0 0 24 24\"\n",
              "       width=\"24px\">\n",
              "    <path d=\"M0 0h24v24H0V0z\" fill=\"none\"/>\n",
              "    <path d=\"M18.56 5.44l.94 2.06.94-2.06 2.06-.94-2.06-.94-.94-2.06-.94 2.06-2.06.94zm-11 1L8.5 8.5l.94-2.06 2.06-.94-2.06-.94L8.5 2.5l-.94 2.06-2.06.94zm10 10l.94 2.06.94-2.06 2.06-.94-2.06-.94-.94-2.06-.94 2.06-2.06.94z\"/><path d=\"M17.41 7.96l-1.37-1.37c-.4-.4-.92-.59-1.43-.59-.52 0-1.04.2-1.43.59L10.3 9.45l-7.72 7.72c-.78.78-.78 2.05 0 2.83L4 21.41c.39.39.9.59 1.41.59.51 0 1.02-.2 1.41-.59l7.78-7.78 2.81-2.81c.8-.78.8-2.07 0-2.86zM5.41 20L4 18.59l7.72-7.72 1.47 1.35L5.41 20z\"/>\n",
              "  </svg>\n",
              "      </button>\n",
              "      \n",
              "  <style>\n",
              "    .colab-df-container {\n",
              "      display:flex;\n",
              "      flex-wrap:wrap;\n",
              "      gap: 12px;\n",
              "    }\n",
              "\n",
              "    .colab-df-convert {\n",
              "      background-color: #E8F0FE;\n",
              "      border: none;\n",
              "      border-radius: 50%;\n",
              "      cursor: pointer;\n",
              "      display: none;\n",
              "      fill: #1967D2;\n",
              "      height: 32px;\n",
              "      padding: 0 0 0 0;\n",
              "      width: 32px;\n",
              "    }\n",
              "\n",
              "    .colab-df-convert:hover {\n",
              "      background-color: #E2EBFA;\n",
              "      box-shadow: 0px 1px 2px rgba(60, 64, 67, 0.3), 0px 1px 3px 1px rgba(60, 64, 67, 0.15);\n",
              "      fill: #174EA6;\n",
              "    }\n",
              "\n",
              "    [theme=dark] .colab-df-convert {\n",
              "      background-color: #3B4455;\n",
              "      fill: #D2E3FC;\n",
              "    }\n",
              "\n",
              "    [theme=dark] .colab-df-convert:hover {\n",
              "      background-color: #434B5C;\n",
              "      box-shadow: 0px 1px 3px 1px rgba(0, 0, 0, 0.15);\n",
              "      filter: drop-shadow(0px 1px 2px rgba(0, 0, 0, 0.3));\n",
              "      fill: #FFFFFF;\n",
              "    }\n",
              "  </style>\n",
              "\n",
              "      <script>\n",
              "        const buttonEl =\n",
              "          document.querySelector('#df-4086be2e-b712-477b-a04b-4f016d460947 button.colab-df-convert');\n",
              "        buttonEl.style.display =\n",
              "          google.colab.kernel.accessAllowed ? 'block' : 'none';\n",
              "\n",
              "        async function convertToInteractive(key) {\n",
              "          const element = document.querySelector('#df-4086be2e-b712-477b-a04b-4f016d460947');\n",
              "          const dataTable =\n",
              "            await google.colab.kernel.invokeFunction('convertToInteractive',\n",
              "                                                     [key], {});\n",
              "          if (!dataTable) return;\n",
              "\n",
              "          const docLinkHtml = 'Like what you see? Visit the ' +\n",
              "            '<a target=\"_blank\" href=https://colab.research.google.com/notebooks/data_table.ipynb>data table notebook</a>'\n",
              "            + ' to learn more about interactive tables.';\n",
              "          element.innerHTML = '';\n",
              "          dataTable['output_type'] = 'display_data';\n",
              "          await google.colab.output.renderOutput(dataTable, element);\n",
              "          const docLink = document.createElement('div');\n",
              "          docLink.innerHTML = docLinkHtml;\n",
              "          element.appendChild(docLink);\n",
              "        }\n",
              "      </script>\n",
              "    </div>\n",
              "  </div>\n",
              "  "
            ]
          },
          "metadata": {},
          "execution_count": 50
        }
      ]
    },
    {
      "cell_type": "code",
      "source": [
        "importances.plot.bar()"
      ],
      "metadata": {
        "colab": {
          "base_uri": "https://localhost:8080/",
          "height": 643
        },
        "id": "Z6KWGG9gld0_",
        "outputId": "0a3c3d26-026d-490c-dfb7-a138626d73b7"
      },
      "execution_count": 51,
      "outputs": [
        {
          "output_type": "execute_result",
          "data": {
            "text/plain": [
              "<matplotlib.axes._subplots.AxesSubplot at 0x7f2f8520ba90>"
            ]
          },
          "metadata": {},
          "execution_count": 51
        },
        {
          "output_type": "display_data",
          "data": {
            "text/plain": [
              "<Figure size 900x600 with 1 Axes>"
            ],
            "image/png": "[encoded data removed]"
          },
          "metadata": {
            "needs_background": "light"
          }
        }
      ]
    },
    {
      "cell_type": "code",
      "source": [
        "scaler = MinMaxScaler()\n",
        "sdss = pd.DataFrame(scaler.fit_transform(df_fe.drop(['mjd', 'class'], axis=1)), columns=df_fe.drop(['mjd', 'class'], axis=1).columns)\n",
        "sdss['class'] = df_fe['class']\n",
        "sdss.head()"
      ],
      "metadata": {
        "colab": {
          "base_uri": "https://localhost:8080/",
          "height": 206
        },
        "id": "uQn3PqYFloaW",
        "outputId": "2efbfd04-65eb-4533-905e-cb75d071773c"
      },
      "execution_count": 52,
      "outputs": [
        {
          "output_type": "execute_result",
          "data": {
            "text/plain": [
              "         ra       dec  redshift     plate   fiberid     PCA_1     PCA_2  \\\n",
              "0  0.693832  0.074025  0.000770  0.373281  0.490490  0.385886  0.069348   \n",
              "1  0.694098  0.074642  0.000762  0.006999  0.540541  0.448110  0.215264   \n",
              "2  0.694422  0.074519  0.023749  0.002579  0.512513  0.518964  0.154511   \n",
              "3  0.695175  0.073487  0.000751  0.373281  0.509510  0.388785  0.279638   \n",
              "4  0.695225  0.074199  0.000882  0.373281  0.511512  0.417103  0.357613   \n",
              "\n",
              "      PCA_3  class  \n",
              "0  0.387685      2  \n",
              "1  0.415556      2  \n",
              "2  0.490959      0  \n",
              "3  0.452852      2  \n",
              "4  0.353918      2  "
            ],
            "text/html": [
              "\n",
              "  <div id=\"df-e3162c43-2837-4348-872a-0503724c945f\">\n",
              "    <div class=\"colab-df-container\">\n",
              "      <div>\n",
              "<style scoped>\n",
              "    .dataframe tbody tr th:only-of-type {\n",
              "        vertical-align: middle;\n",
              "    }\n",
              "\n",
              "    .dataframe tbody tr th {\n",
              "        vertical-align: top;\n",
              "    }\n",
              "\n",
              "    .dataframe thead th {\n",
              "        text-align: right;\n",
              "    }\n",
              "</style>\n",
              "<table border=\"1\" class=\"dataframe\">\n",
              "  <thead>\n",
              "    <tr style=\"text-align: right;\">\n",
              "      <th></th>\n",
              "      <th>ra</th>\n",
              "      <th>dec</th>\n",
              "      <th>redshift</th>\n",
              "      <th>plate</th>\n",
              "      <th>fiberid</th>\n",
              "      <th>PCA_1</th>\n",
              "      <th>PCA_2</th>\n",
              "      <th>PCA_3</th>\n",
              "      <th>class</th>\n",
              "    </tr>\n",
              "  </thead>\n",
              "  <tbody>\n",
              "    <tr>\n",
              "      <th>0</th>\n",
              "      <td>0.693832</td>\n",
              "      <td>0.074025</td>\n",
              "      <td>0.000770</td>\n",
              "      <td>0.373281</td>\n",
              "      <td>0.490490</td>\n",
              "      <td>0.385886</td>\n",
              "      <td>0.069348</td>\n",
              "      <td>0.387685</td>\n",
              "      <td>2</td>\n",
              "    </tr>\n",
              "    <tr>\n",
              "      <th>1</th>\n",
              "      <td>0.694098</td>\n",
              "      <td>0.074642</td>\n",
              "      <td>0.000762</td>\n",
              "      <td>0.006999</td>\n",
              "      <td>0.540541</td>\n",
              "      <td>0.448110</td>\n",
              "      <td>0.215264</td>\n",
              "      <td>0.415556</td>\n",
              "      <td>2</td>\n",
              "    </tr>\n",
              "    <tr>\n",
              "      <th>2</th>\n",
              "      <td>0.694422</td>\n",
              "      <td>0.074519</td>\n",
              "      <td>0.023749</td>\n",
              "      <td>0.002579</td>\n",
              "      <td>0.512513</td>\n",
              "      <td>0.518964</td>\n",
              "      <td>0.154511</td>\n",
              "      <td>0.490959</td>\n",
              "      <td>0</td>\n",
              "    </tr>\n",
              "    <tr>\n",
              "      <th>3</th>\n",
              "      <td>0.695175</td>\n",
              "      <td>0.073487</td>\n",
              "      <td>0.000751</td>\n",
              "      <td>0.373281</td>\n",
              "      <td>0.509510</td>\n",
              "      <td>0.388785</td>\n",
              "      <td>0.279638</td>\n",
              "      <td>0.452852</td>\n",
              "      <td>2</td>\n",
              "    </tr>\n",
              "    <tr>\n",
              "      <th>4</th>\n",
              "      <td>0.695225</td>\n",
              "      <td>0.074199</td>\n",
              "      <td>0.000882</td>\n",
              "      <td>0.373281</td>\n",
              "      <td>0.511512</td>\n",
              "      <td>0.417103</td>\n",
              "      <td>0.357613</td>\n",
              "      <td>0.353918</td>\n",
              "      <td>2</td>\n",
              "    </tr>\n",
              "  </tbody>\n",
              "</table>\n",
              "</div>\n",
              "      <button class=\"colab-df-convert\" onclick=\"convertToInteractive('df-e3162c43-2837-4348-872a-0503724c945f')\"\n",
              "              title=\"Convert this dataframe to an interactive table.\"\n",
              "              style=\"display:none;\">\n",
              "        \n",
              "  <svg xmlns=\"http://www.w3.org/2000/svg\" height=\"24px\"viewBox=\"0 0 24 24\"\n",
              "       width=\"24px\">\n",
              "    <path d=\"M0 0h24v24H0V0z\" fill=\"none\"/>\n",
              "    <path d=\"M18.56 5.44l.94 2.06.94-2.06 2.06-.94-2.06-.94-.94-2.06-.94 2.06-2.06.94zm-11 1L8.5 8.5l.94-2.06 2.06-.94-2.06-.94L8.5 2.5l-.94 2.06-2.06.94zm10 10l.94 2.06.94-2.06 2.06-.94-2.06-.94-.94-2.06-.94 2.06-2.06.94z\"/><path d=\"M17.41 7.96l-1.37-1.37c-.4-.4-.92-.59-1.43-.59-.52 0-1.04.2-1.43.59L10.3 9.45l-7.72 7.72c-.78.78-.78 2.05 0 2.83L4 21.41c.39.39.9.59 1.41.59.51 0 1.02-.2 1.41-.59l7.78-7.78 2.81-2.81c.8-.78.8-2.07 0-2.86zM5.41 20L4 18.59l7.72-7.72 1.47 1.35L5.41 20z\"/>\n",
              "  </svg>\n",
              "      </button>\n",
              "      \n",
              "  <style>\n",
              "    .colab-df-container {\n",
              "      display:flex;\n",
              "      flex-wrap:wrap;\n",
              "      gap: 12px;\n",
              "    }\n",
              "\n",
              "    .colab-df-convert {\n",
              "      background-color: #E8F0FE;\n",
              "      border: none;\n",
              "      border-radius: 50%;\n",
              "      cursor: pointer;\n",
              "      display: none;\n",
              "      fill: #1967D2;\n",
              "      height: 32px;\n",
              "      padding: 0 0 0 0;\n",
              "      width: 32px;\n",
              "    }\n",
              "\n",
              "    .colab-df-convert:hover {\n",
              "      background-color: #E2EBFA;\n",
              "      box-shadow: 0px 1px 2px rgba(60, 64, 67, 0.3), 0px 1px 3px 1px rgba(60, 64, 67, 0.15);\n",
              "      fill: #174EA6;\n",
              "    }\n",
              "\n",
              "    [theme=dark] .colab-df-convert {\n",
              "      background-color: #3B4455;\n",
              "      fill: #D2E3FC;\n",
              "    }\n",
              "\n",
              "    [theme=dark] .colab-df-convert:hover {\n",
              "      background-color: #434B5C;\n",
              "      box-shadow: 0px 1px 3px 1px rgba(0, 0, 0, 0.15);\n",
              "      filter: drop-shadow(0px 1px 2px rgba(0, 0, 0, 0.3));\n",
              "      fill: #FFFFFF;\n",
              "    }\n",
              "  </style>\n",
              "\n",
              "      <script>\n",
              "        const buttonEl =\n",
              "          document.querySelector('#df-e3162c43-2837-4348-872a-0503724c945f button.colab-df-convert');\n",
              "        buttonEl.style.display =\n",
              "          google.colab.kernel.accessAllowed ? 'block' : 'none';\n",
              "\n",
              "        async function convertToInteractive(key) {\n",
              "          const element = document.querySelector('#df-e3162c43-2837-4348-872a-0503724c945f');\n",
              "          const dataTable =\n",
              "            await google.colab.kernel.invokeFunction('convertToInteractive',\n",
              "                                                     [key], {});\n",
              "          if (!dataTable) return;\n",
              "\n",
              "          const docLinkHtml = 'Like what you see? Visit the ' +\n",
              "            '<a target=\"_blank\" href=https://colab.research.google.com/notebooks/data_table.ipynb>data table notebook</a>'\n",
              "            + ' to learn more about interactive tables.';\n",
              "          element.innerHTML = '';\n",
              "          dataTable['output_type'] = 'display_data';\n",
              "          await google.colab.output.renderOutput(dataTable, element);\n",
              "          const docLink = document.createElement('div');\n",
              "          docLink.innerHTML = docLinkHtml;\n",
              "          element.appendChild(docLink);\n",
              "        }\n",
              "      </script>\n",
              "    </div>\n",
              "  </div>\n",
              "  "
            ]
          },
          "metadata": {},
          "execution_count": 52
        }
      ]
    },
    {
      "cell_type": "markdown",
      "source": [
        "# Finding Hyperparamteres"
      ],
      "metadata": {
        "id": "gwyarTM_l7LO"
      }
    },
    {
      "cell_type": "code",
      "source": [
        "X_train, X_test, y_train, y_test = train_test_split(sdss.drop('class', axis=1), sdss['class'],\n",
        "                                                   test_size=0.33)\n",
        "xgboost = XGBClassifier(max_depth=5, learning_rate=0.01, n_estimators=100, gamma=0, \n",
        "                        min_child_weight=1, subsample=0.8, colsample_bytree=0.8, reg_alpha=0.005)\n",
        "\n",
        "xgboost.fit(X_train, y_train)\n",
        "preds = xgboost.predict(X_test)\n",
        "\n",
        "accuracy = (preds == y_test).sum().astype(float) / len(preds)*100\n",
        "\n",
        "print(\"XGBoost's prediction accuracy WITH optimal hyperparameters is: %3.2f\" % (accuracy))"
      ],
      "metadata": {
        "colab": {
          "base_uri": "https://localhost:8080/"
        },
        "id": "KPm2dZ2Ql5w8",
        "outputId": "615ce82d-6042-4c1b-bd9d-2ce15d93c6e3"
      },
      "execution_count": 53,
      "outputs": [
        {
          "output_type": "stream",
          "name": "stdout",
          "text": [
            "XGBoost's prediction accuracy WITH optimal hyperparameters is: 99.21\n"
          ]
        }
      ]
    },
    {
      "cell_type": "code",
      "source": [
        "xgb_cv = XGBClassifier(n_estimators=100)\n",
        "scores = cross_val_score(xgb_cv, X_train, y_train, cv=10, scoring = \"accuracy\")\n",
        "print(\"Scores:\", scores)\n",
        "print(\"Mean:\", scores.mean())\n",
        "print(\"Standard Deviation:\", scores.std())"
      ],
      "metadata": {
        "colab": {
          "base_uri": "https://localhost:8080/"
        },
        "id": "LtSIantFmPb6",
        "outputId": "e7bfccbb-8b89-42e1-a5d9-e4f1639f4e27"
      },
      "execution_count": 54,
      "outputs": [
        {
          "output_type": "stream",
          "name": "stdout",
          "text": [
            "Scores: [0.99104478 0.99253731 0.99701493 0.98955224 0.99253731 0.98955224\n",
            " 0.99701493 0.99253731 0.99552239 0.99104478]\n",
            "Mean: 0.9928358208955224\n",
            "Standard Deviation: 0.00265319236337779\n"
          ]
        }
      ]
    },
    {
      "cell_type": "markdown",
      "source": [
        "## XGBoost - Evaluation"
      ],
      "metadata": {
        "id": "h6qycQPDmaD8"
      }
    },
    {
      "cell_type": "code",
      "source": [
        "unique, counts = np.unique(sdss['class'], return_counts=True)\n",
        "predictions = cross_val_predict(xgb, sdss.drop('class', axis=1), sdss['class'], cv=3)\n",
        "confusion_matrix(sdss['class'], predictions)"
      ],
      "metadata": {
        "colab": {
          "base_uri": "https://localhost:8080/"
        },
        "id": "2H_ImaWYmTqC",
        "outputId": "f690a812-566a-44ee-81d8-dbc8cec07122"
      },
      "execution_count": 56,
      "outputs": [
        {
          "output_type": "execute_result",
          "data": {
            "text/plain": [
              "array([[4962,   29,    7],\n",
              "       [  22,  827,    1],\n",
              "       [   5,    0, 4147]])"
            ]
          },
          "metadata": {},
          "execution_count": 56
        }
      ]
    },
    {
      "cell_type": "code",
      "source": [
        "print(\"Precision:\", precision_score(sdss['class'], predictions, average='micro'))\n",
        "print(\"Recall:\",recall_score(sdss['class'], predictions, average='micro'))"
      ],
      "metadata": {
        "colab": {
          "base_uri": "https://localhost:8080/"
        },
        "id": "nY3bP-Ggmj5A",
        "outputId": "4e198362-1755-473d-ffcc-16c92c740e89"
      },
      "execution_count": 57,
      "outputs": [
        {
          "output_type": "stream",
          "name": "stdout",
          "text": [
            "Precision: 0.9936\n",
            "Recall: 0.9936\n"
          ]
        }
      ]
    },
    {
      "cell_type": "code",
      "source": [
        "print(\"F1-Score:\", f1_score(sdss['class'], predictions, average='micro'))"
      ],
      "metadata": {
        "colab": {
          "base_uri": "https://localhost:8080/"
        },
        "id": "snIOvPJkmo0h",
        "outputId": "c798b30a-508b-42f8-81f4-0d796b89c700"
      },
      "execution_count": 58,
      "outputs": [
        {
          "output_type": "stream",
          "name": "stdout",
          "text": [
            "F1-Score: 0.9936\n"
          ]
        }
      ]
    }
  ]
}